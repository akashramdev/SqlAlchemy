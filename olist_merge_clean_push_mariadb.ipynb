{
 "cells": [
  {
   "cell_type": "code",
   "execution_count": null,
   "id": "e6414a02",
   "metadata": {},
   "outputs": [],
   "source": [
    "pip install mariadb sqlalchemy"
   ]
  },
  {
   "cell_type": "code",
   "execution_count": null,
   "id": "4d4ad033",
   "metadata": {},
   "outputs": [],
   "source": [
    "pip install mysql-connector-python"
   ]
  },
  {
   "cell_type": "code",
   "execution_count": 1,
   "id": "92a78f51",
   "metadata": {},
   "outputs": [],
   "source": [
    "import mariadb\n",
    "import sqlalchemy\n",
    "from sqlalchemy import create_engine\n",
    "import pandas as pd"
   ]
  },
  {
   "cell_type": "code",
   "execution_count": null,
   "id": "1721dd23",
   "metadata": {},
   "outputs": [],
   "source": []
  },
  {
   "cell_type": "code",
   "execution_count": 2,
   "id": "32d2baac",
   "metadata": {},
   "outputs": [],
   "source": [
    "#connection"
   ]
  },
  {
   "cell_type": "code",
   "execution_count": 3,
   "id": "7c08a9e0",
   "metadata": {},
   "outputs": [],
   "source": [
    "hostname=\"localhost\"\n",
    "dbname=\"test\"\n",
    "uname=\"root\"\n",
    "pwd=\"password\""
   ]
  },
  {
   "cell_type": "code",
   "execution_count": 4,
   "id": "4ca8e528",
   "metadata": {},
   "outputs": [],
   "source": [
    "engine = create_engine(\"mysql+pymysql://{user}:{pw}@{host}/{db}\"\n",
    "                .format(host=hostname, db=dbname, user=uname, pw=pwd))"
   ]
  },
  {
   "cell_type": "code",
   "execution_count": null,
   "id": "d2ebaabb",
   "metadata": {},
   "outputs": [],
   "source": []
  },
  {
   "cell_type": "code",
   "execution_count": 5,
   "id": "dd3fb496",
   "metadata": {},
   "outputs": [],
   "source": [
    "#importing tables from mariadb"
   ]
  },
  {
   "cell_type": "code",
   "execution_count": 5,
   "id": "e0642a0a",
   "metadata": {},
   "outputs": [],
   "source": [
    "df_customers = pd.read_sql('SELECT * FROM customers', engine)\n",
    "df_order_items = pd.read_sql('SELECT * FROM order_items', engine)\n",
    "df_products = pd.read_sql('SELECT * FROM products', engine)\n",
    "df_order_reviews = pd.read_sql('SELECT * FROM order_reviews', engine)\n",
    "df_orders = pd.read_sql('SELECT * FROM orders', engine)"
   ]
  },
  {
   "cell_type": "code",
   "execution_count": 7,
   "id": "8851d28d",
   "metadata": {},
   "outputs": [],
   "source": [
    "##########################################################################"
   ]
  },
  {
   "cell_type": "code",
   "execution_count": 6,
   "id": "3761b3c0",
   "metadata": {},
   "outputs": [
    {
     "name": "stdout",
     "output_type": "stream",
     "text": [
      "<class 'pandas.core.frame.DataFrame'>\n",
      "RangeIndex: 99441 entries, 0 to 99440\n",
      "Data columns (total 8 columns):\n",
      " #   Column                         Non-Null Count  Dtype \n",
      "---  ------                         --------------  ----- \n",
      " 0   order_id                       99441 non-null  object\n",
      " 1   customer_id                    99441 non-null  object\n",
      " 2   order_status                   99441 non-null  object\n",
      " 3   order_purchase_timestamp       99441 non-null  object\n",
      " 4   order_approved_at              99441 non-null  object\n",
      " 5   order_delivered_carrier_date   99441 non-null  object\n",
      " 6   order_delivered_customer_date  99441 non-null  object\n",
      " 7   order_estimated_delivery_date  99441 non-null  object\n",
      "dtypes: object(8)\n",
      "memory usage: 6.1+ MB\n"
     ]
    }
   ],
   "source": [
    "df_orders.info()"
   ]
  },
  {
   "cell_type": "code",
   "execution_count": 7,
   "id": "b62934e1",
   "metadata": {},
   "outputs": [
    {
     "data": {
      "text/plain": [
       "(99441, 8)"
      ]
     },
     "execution_count": 7,
     "metadata": {},
     "output_type": "execute_result"
    }
   ],
   "source": [
    "df_orders.shape"
   ]
  },
  {
   "cell_type": "code",
   "execution_count": 8,
   "id": "e244fd63",
   "metadata": {},
   "outputs": [
    {
     "data": {
      "text/plain": [
       "99441"
      ]
     },
     "execution_count": 8,
     "metadata": {},
     "output_type": "execute_result"
    }
   ],
   "source": [
    "df_orders[\"order_id\"].nunique()"
   ]
  },
  {
   "cell_type": "code",
   "execution_count": 9,
   "id": "dfe2c94d",
   "metadata": {},
   "outputs": [
    {
     "data": {
      "text/plain": [
       "99441"
      ]
     },
     "execution_count": 9,
     "metadata": {},
     "output_type": "execute_result"
    }
   ],
   "source": [
    "df_orders[\"customer_id\"].nunique()"
   ]
  },
  {
   "cell_type": "code",
   "execution_count": 10,
   "id": "8d81c584",
   "metadata": {},
   "outputs": [
    {
     "data": {
      "text/plain": [
       "1"
      ]
     },
     "execution_count": 10,
     "metadata": {},
     "output_type": "execute_result"
    }
   ],
   "source": [
    "df_orders[\"order_approved_at\"].nunique()"
   ]
  },
  {
   "cell_type": "code",
   "execution_count": null,
   "id": "9a2f58f8",
   "metadata": {},
   "outputs": [],
   "source": []
  },
  {
   "cell_type": "code",
   "execution_count": 11,
   "id": "32a9917d",
   "metadata": {},
   "outputs": [
    {
     "name": "stdout",
     "output_type": "stream",
     "text": [
      "<class 'pandas.core.frame.DataFrame'>\n",
      "RangeIndex: 99441 entries, 0 to 99440\n",
      "Data columns (total 5 columns):\n",
      " #   Column                    Non-Null Count  Dtype \n",
      "---  ------                    --------------  ----- \n",
      " 0   customer_id               99441 non-null  object\n",
      " 1   customer_unique_id        99441 non-null  object\n",
      " 2   customer_zip_code_prefix  99441 non-null  int64 \n",
      " 3   customer_city             99441 non-null  object\n",
      " 4   customer_state            99441 non-null  object\n",
      "dtypes: int64(1), object(4)\n",
      "memory usage: 3.8+ MB\n"
     ]
    }
   ],
   "source": [
    "df_customers.info()"
   ]
  },
  {
   "cell_type": "code",
   "execution_count": 12,
   "id": "f22915ba",
   "metadata": {},
   "outputs": [
    {
     "data": {
      "text/plain": [
       "(99441, 5)"
      ]
     },
     "execution_count": 12,
     "metadata": {},
     "output_type": "execute_result"
    }
   ],
   "source": [
    "df_customers.shape"
   ]
  },
  {
   "cell_type": "code",
   "execution_count": 13,
   "id": "ce069043",
   "metadata": {},
   "outputs": [
    {
     "data": {
      "text/plain": [
       "99441"
      ]
     },
     "execution_count": 13,
     "metadata": {},
     "output_type": "execute_result"
    }
   ],
   "source": [
    "df_customers[\"customer_id\"].nunique()"
   ]
  },
  {
   "cell_type": "code",
   "execution_count": 14,
   "id": "b65288c6",
   "metadata": {},
   "outputs": [
    {
     "data": {
      "text/plain": [
       "96096"
      ]
     },
     "execution_count": 14,
     "metadata": {},
     "output_type": "execute_result"
    }
   ],
   "source": [
    "df_customers[\"customer_unique_id\"].nunique()"
   ]
  },
  {
   "cell_type": "code",
   "execution_count": null,
   "id": "9fd4cc46",
   "metadata": {},
   "outputs": [],
   "source": []
  },
  {
   "cell_type": "code",
   "execution_count": 17,
   "id": "e5828e8b",
   "metadata": {},
   "outputs": [],
   "source": [
    "#df_merge_oc = pd.merge(df_orders, df_customers, left_on='customer_id', right_on='customer_unique_id')"
   ]
  },
  {
   "cell_type": "code",
   "execution_count": 18,
   "id": "943bed5c",
   "metadata": {},
   "outputs": [],
   "source": [
    "#orders join customers on customer id"
   ]
  },
  {
   "cell_type": "code",
   "execution_count": 15,
   "id": "566712b6",
   "metadata": {},
   "outputs": [],
   "source": [
    "df_merge_oc = pd.merge(df_orders, df_customers, on='customer_id',  how='left')"
   ]
  },
  {
   "cell_type": "code",
   "execution_count": 16,
   "id": "79ebfe1e",
   "metadata": {},
   "outputs": [
    {
     "data": {
      "text/plain": [
       "(99441, 12)"
      ]
     },
     "execution_count": 16,
     "metadata": {},
     "output_type": "execute_result"
    }
   ],
   "source": [
    "df_merge_oc.shape"
   ]
  },
  {
   "cell_type": "code",
   "execution_count": 17,
   "id": "7bf6ea67",
   "metadata": {},
   "outputs": [
    {
     "name": "stdout",
     "output_type": "stream",
     "text": [
      "<class 'pandas.core.frame.DataFrame'>\n",
      "Int64Index: 99441 entries, 0 to 99440\n",
      "Data columns (total 12 columns):\n",
      " #   Column                         Non-Null Count  Dtype \n",
      "---  ------                         --------------  ----- \n",
      " 0   order_id                       99441 non-null  object\n",
      " 1   customer_id                    99441 non-null  object\n",
      " 2   order_status                   99441 non-null  object\n",
      " 3   order_purchase_timestamp       99441 non-null  object\n",
      " 4   order_approved_at              99441 non-null  object\n",
      " 5   order_delivered_carrier_date   99441 non-null  object\n",
      " 6   order_delivered_customer_date  99441 non-null  object\n",
      " 7   order_estimated_delivery_date  99441 non-null  object\n",
      " 8   customer_unique_id             99441 non-null  object\n",
      " 9   customer_zip_code_prefix       99441 non-null  int64 \n",
      " 10  customer_city                  99441 non-null  object\n",
      " 11  customer_state                 99441 non-null  object\n",
      "dtypes: int64(1), object(11)\n",
      "memory usage: 9.9+ MB\n"
     ]
    }
   ],
   "source": [
    "df_merge_oc.info()"
   ]
  },
  {
   "cell_type": "code",
   "execution_count": 18,
   "id": "b839439f",
   "metadata": {},
   "outputs": [],
   "source": [
    "df_merge_oc= df_merge_oc[['order_id','customer_id','customer_zip_code_prefix','customer_city','customer_state']]"
   ]
  },
  {
   "cell_type": "code",
   "execution_count": 19,
   "id": "ff3b8223",
   "metadata": {},
   "outputs": [
    {
     "data": {
      "text/html": [
       "<div>\n",
       "<style scoped>\n",
       "    .dataframe tbody tr th:only-of-type {\n",
       "        vertical-align: middle;\n",
       "    }\n",
       "\n",
       "    .dataframe tbody tr th {\n",
       "        vertical-align: top;\n",
       "    }\n",
       "\n",
       "    .dataframe thead th {\n",
       "        text-align: right;\n",
       "    }\n",
       "</style>\n",
       "<table border=\"1\" class=\"dataframe\">\n",
       "  <thead>\n",
       "    <tr style=\"text-align: right;\">\n",
       "      <th></th>\n",
       "      <th>order_id</th>\n",
       "      <th>customer_id</th>\n",
       "      <th>customer_zip_code_prefix</th>\n",
       "      <th>customer_city</th>\n",
       "      <th>customer_state</th>\n",
       "    </tr>\n",
       "  </thead>\n",
       "  <tbody>\n",
       "    <tr>\n",
       "      <th>0</th>\n",
       "      <td>00010242fe8c5a6d1ba2dd792cb16214</td>\n",
       "      <td>3ce436f183e68e07877b285a838db11a</td>\n",
       "      <td>28013</td>\n",
       "      <td>campos dos goytacazes</td>\n",
       "      <td>RJ</td>\n",
       "    </tr>\n",
       "    <tr>\n",
       "      <th>1</th>\n",
       "      <td>00018f77f2f0320c557190d7a144bdd3</td>\n",
       "      <td>f6dd3ec061db4e3987629fe6b26e5cce</td>\n",
       "      <td>15775</td>\n",
       "      <td>santa fe do sul</td>\n",
       "      <td>SP</td>\n",
       "    </tr>\n",
       "    <tr>\n",
       "      <th>2</th>\n",
       "      <td>000229ec398224ef6ca0657da4fc703e</td>\n",
       "      <td>6489ae5e4333f3693df5ad4372dab6d3</td>\n",
       "      <td>35661</td>\n",
       "      <td>para de minas</td>\n",
       "      <td>MG</td>\n",
       "    </tr>\n",
       "    <tr>\n",
       "      <th>3</th>\n",
       "      <td>00024acbcdf0a6daa1e931b038114c75</td>\n",
       "      <td>d4eb9395c8c0431ee92fce09860c5a06</td>\n",
       "      <td>12952</td>\n",
       "      <td>atibaia</td>\n",
       "      <td>SP</td>\n",
       "    </tr>\n",
       "    <tr>\n",
       "      <th>4</th>\n",
       "      <td>00042b26cf59d7ce69dfabb4e55b4fd9</td>\n",
       "      <td>58dbd0b2d70206bf40e62cd34e84d795</td>\n",
       "      <td>13226</td>\n",
       "      <td>varzea paulista</td>\n",
       "      <td>SP</td>\n",
       "    </tr>\n",
       "  </tbody>\n",
       "</table>\n",
       "</div>"
      ],
      "text/plain": [
       "                           order_id                       customer_id  \\\n",
       "0  00010242fe8c5a6d1ba2dd792cb16214  3ce436f183e68e07877b285a838db11a   \n",
       "1  00018f77f2f0320c557190d7a144bdd3  f6dd3ec061db4e3987629fe6b26e5cce   \n",
       "2  000229ec398224ef6ca0657da4fc703e  6489ae5e4333f3693df5ad4372dab6d3   \n",
       "3  00024acbcdf0a6daa1e931b038114c75  d4eb9395c8c0431ee92fce09860c5a06   \n",
       "4  00042b26cf59d7ce69dfabb4e55b4fd9  58dbd0b2d70206bf40e62cd34e84d795   \n",
       "\n",
       "   customer_zip_code_prefix          customer_city customer_state  \n",
       "0                     28013  campos dos goytacazes             RJ  \n",
       "1                     15775        santa fe do sul             SP  \n",
       "2                     35661          para de minas             MG  \n",
       "3                     12952                atibaia             SP  \n",
       "4                     13226        varzea paulista             SP  "
      ]
     },
     "execution_count": 19,
     "metadata": {},
     "output_type": "execute_result"
    }
   ],
   "source": [
    "df_merge_oc.head()"
   ]
  },
  {
   "cell_type": "code",
   "execution_count": 20,
   "id": "b22d0e9d",
   "metadata": {},
   "outputs": [
    {
     "data": {
      "text/plain": [
       "(99441, 5)"
      ]
     },
     "execution_count": 20,
     "metadata": {},
     "output_type": "execute_result"
    }
   ],
   "source": [
    "df_merge_oc.shape"
   ]
  },
  {
   "cell_type": "code",
   "execution_count": null,
   "id": "c3131b5b",
   "metadata": {},
   "outputs": [],
   "source": []
  },
  {
   "cell_type": "code",
   "execution_count": 21,
   "id": "d6261c2b",
   "metadata": {},
   "outputs": [],
   "source": [
    "#df_merge_oc merge on order items"
   ]
  },
  {
   "cell_type": "code",
   "execution_count": 22,
   "id": "bb8cf274",
   "metadata": {},
   "outputs": [
    {
     "name": "stdout",
     "output_type": "stream",
     "text": [
      "<class 'pandas.core.frame.DataFrame'>\n",
      "RangeIndex: 112397 entries, 0 to 112396\n",
      "Data columns (total 7 columns):\n",
      " #   Column               Non-Null Count   Dtype  \n",
      "---  ------               --------------   -----  \n",
      " 0   order_id             112397 non-null  object \n",
      " 1   order_item_id        112397 non-null  int64  \n",
      " 2   product_id           112397 non-null  object \n",
      " 3   seller_id            112397 non-null  object \n",
      " 4   shipping_limit_date  112397 non-null  object \n",
      " 5   price                112397 non-null  float64\n",
      " 6   freight_value        112397 non-null  float64\n",
      "dtypes: float64(2), int64(1), object(4)\n",
      "memory usage: 6.0+ MB\n"
     ]
    }
   ],
   "source": [
    "df_order_items.info()"
   ]
  },
  {
   "cell_type": "code",
   "execution_count": 23,
   "id": "fb149182",
   "metadata": {},
   "outputs": [
    {
     "data": {
      "text/plain": [
       "(112397, 7)"
      ]
     },
     "execution_count": 23,
     "metadata": {},
     "output_type": "execute_result"
    }
   ],
   "source": [
    "df_order_items.shape"
   ]
  },
  {
   "cell_type": "code",
   "execution_count": 24,
   "id": "19f7ee96",
   "metadata": {},
   "outputs": [
    {
     "data": {
      "text/plain": [
       "order_id               98450\n",
       "order_item_id             21\n",
       "product_id             32889\n",
       "seller_id               3088\n",
       "shipping_limit_date        1\n",
       "price                   5959\n",
       "freight_value           6995\n",
       "dtype: int64"
      ]
     },
     "execution_count": 24,
     "metadata": {},
     "output_type": "execute_result"
    }
   ],
   "source": [
    "df_order_items.nunique()"
   ]
  },
  {
   "cell_type": "code",
   "execution_count": 25,
   "id": "0ab5d3fc",
   "metadata": {},
   "outputs": [
    {
     "name": "stdout",
     "output_type": "stream",
     "text": [
      "<class 'pandas.core.frame.DataFrame'>\n",
      "Int64Index: 99441 entries, 0 to 99440\n",
      "Data columns (total 5 columns):\n",
      " #   Column                    Non-Null Count  Dtype \n",
      "---  ------                    --------------  ----- \n",
      " 0   order_id                  99441 non-null  object\n",
      " 1   customer_id               99441 non-null  object\n",
      " 2   customer_zip_code_prefix  99441 non-null  int64 \n",
      " 3   customer_city             99441 non-null  object\n",
      " 4   customer_state            99441 non-null  object\n",
      "dtypes: int64(1), object(4)\n",
      "memory usage: 4.6+ MB\n"
     ]
    }
   ],
   "source": [
    "df_merge_oc.info()"
   ]
  },
  {
   "cell_type": "code",
   "execution_count": 26,
   "id": "3473ab29",
   "metadata": {},
   "outputs": [
    {
     "data": {
      "text/plain": [
       "order_id                    99441\n",
       "customer_id                 99441\n",
       "customer_zip_code_prefix    14994\n",
       "customer_city                4119\n",
       "customer_state                 27\n",
       "dtype: int64"
      ]
     },
     "execution_count": 26,
     "metadata": {},
     "output_type": "execute_result"
    }
   ],
   "source": [
    "df_merge_oc.nunique()"
   ]
  },
  {
   "cell_type": "code",
   "execution_count": 27,
   "id": "8a3c663a",
   "metadata": {},
   "outputs": [],
   "source": [
    "df_merge_oc_oi = pd.merge(df_merge_oc, df_order_items, on='order_id',  how='left')"
   ]
  },
  {
   "cell_type": "code",
   "execution_count": 28,
   "id": "24d96a46",
   "metadata": {},
   "outputs": [
    {
     "data": {
      "text/plain": [
       "(113388, 11)"
      ]
     },
     "execution_count": 28,
     "metadata": {},
     "output_type": "execute_result"
    }
   ],
   "source": [
    "df_merge_oc_oi.shape"
   ]
  },
  {
   "cell_type": "code",
   "execution_count": 29,
   "id": "b35faacf",
   "metadata": {},
   "outputs": [
    {
     "data": {
      "text/plain": [
       "order_id                    99441\n",
       "customer_id                 99441\n",
       "customer_zip_code_prefix    14994\n",
       "customer_city                4119\n",
       "customer_state                 27\n",
       "order_item_id                  21\n",
       "product_id                  32889\n",
       "seller_id                    3088\n",
       "shipping_limit_date             1\n",
       "price                        5959\n",
       "freight_value                6995\n",
       "dtype: int64"
      ]
     },
     "execution_count": 29,
     "metadata": {},
     "output_type": "execute_result"
    }
   ],
   "source": [
    "df_merge_oc_oi.nunique()"
   ]
  },
  {
   "cell_type": "code",
   "execution_count": 30,
   "id": "74e11625",
   "metadata": {},
   "outputs": [
    {
     "name": "stdout",
     "output_type": "stream",
     "text": [
      "<class 'pandas.core.frame.DataFrame'>\n",
      "Int64Index: 113388 entries, 0 to 113387\n",
      "Data columns (total 11 columns):\n",
      " #   Column                    Non-Null Count   Dtype  \n",
      "---  ------                    --------------   -----  \n",
      " 0   order_id                  113388 non-null  object \n",
      " 1   customer_id               113388 non-null  object \n",
      " 2   customer_zip_code_prefix  113388 non-null  int64  \n",
      " 3   customer_city             113388 non-null  object \n",
      " 4   customer_state            113388 non-null  object \n",
      " 5   order_item_id             112397 non-null  float64\n",
      " 6   product_id                112397 non-null  object \n",
      " 7   seller_id                 112397 non-null  object \n",
      " 8   shipping_limit_date       112397 non-null  object \n",
      " 9   price                     112397 non-null  float64\n",
      " 10  freight_value             112397 non-null  float64\n",
      "dtypes: float64(3), int64(1), object(7)\n",
      "memory usage: 10.4+ MB\n"
     ]
    }
   ],
   "source": [
    "df_merge_oc_oi.info()"
   ]
  },
  {
   "cell_type": "code",
   "execution_count": 31,
   "id": "aa23c35a",
   "metadata": {},
   "outputs": [
    {
     "data": {
      "text/html": [
       "<div>\n",
       "<style scoped>\n",
       "    .dataframe tbody tr th:only-of-type {\n",
       "        vertical-align: middle;\n",
       "    }\n",
       "\n",
       "    .dataframe tbody tr th {\n",
       "        vertical-align: top;\n",
       "    }\n",
       "\n",
       "    .dataframe thead th {\n",
       "        text-align: right;\n",
       "    }\n",
       "</style>\n",
       "<table border=\"1\" class=\"dataframe\">\n",
       "  <thead>\n",
       "    <tr style=\"text-align: right;\">\n",
       "      <th></th>\n",
       "      <th>order_id</th>\n",
       "      <th>customer_id</th>\n",
       "      <th>customer_zip_code_prefix</th>\n",
       "      <th>customer_city</th>\n",
       "      <th>customer_state</th>\n",
       "      <th>order_item_id</th>\n",
       "      <th>product_id</th>\n",
       "      <th>seller_id</th>\n",
       "      <th>shipping_limit_date</th>\n",
       "      <th>price</th>\n",
       "      <th>freight_value</th>\n",
       "    </tr>\n",
       "  </thead>\n",
       "  <tbody>\n",
       "    <tr>\n",
       "      <th>0</th>\n",
       "      <td>00010242fe8c5a6d1ba2dd792cb16214</td>\n",
       "      <td>3ce436f183e68e07877b285a838db11a</td>\n",
       "      <td>28013</td>\n",
       "      <td>campos dos goytacazes</td>\n",
       "      <td>RJ</td>\n",
       "      <td>1.0</td>\n",
       "      <td>4244733e06e7ecb4970a6e2683c13e61</td>\n",
       "      <td>48436dade18ac8b2bce089ec2a041202</td>\n",
       "      <td>0000-00-00 00:00:00</td>\n",
       "      <td>58.90</td>\n",
       "      <td>13.29</td>\n",
       "    </tr>\n",
       "    <tr>\n",
       "      <th>1</th>\n",
       "      <td>00018f77f2f0320c557190d7a144bdd3</td>\n",
       "      <td>f6dd3ec061db4e3987629fe6b26e5cce</td>\n",
       "      <td>15775</td>\n",
       "      <td>santa fe do sul</td>\n",
       "      <td>SP</td>\n",
       "      <td>1.0</td>\n",
       "      <td>e5f2d52b802189ee658865ca93d83a8f</td>\n",
       "      <td>dd7ddc04e1b6c2c614352b383efe2d36</td>\n",
       "      <td>0000-00-00 00:00:00</td>\n",
       "      <td>239.90</td>\n",
       "      <td>19.93</td>\n",
       "    </tr>\n",
       "    <tr>\n",
       "      <th>2</th>\n",
       "      <td>000229ec398224ef6ca0657da4fc703e</td>\n",
       "      <td>6489ae5e4333f3693df5ad4372dab6d3</td>\n",
       "      <td>35661</td>\n",
       "      <td>para de minas</td>\n",
       "      <td>MG</td>\n",
       "      <td>1.0</td>\n",
       "      <td>c777355d18b72b67abbeef9df44fd0fd</td>\n",
       "      <td>5b51032eddd242adc84c38acab88f23d</td>\n",
       "      <td>0000-00-00 00:00:00</td>\n",
       "      <td>199.00</td>\n",
       "      <td>17.87</td>\n",
       "    </tr>\n",
       "    <tr>\n",
       "      <th>3</th>\n",
       "      <td>00024acbcdf0a6daa1e931b038114c75</td>\n",
       "      <td>d4eb9395c8c0431ee92fce09860c5a06</td>\n",
       "      <td>12952</td>\n",
       "      <td>atibaia</td>\n",
       "      <td>SP</td>\n",
       "      <td>1.0</td>\n",
       "      <td>7634da152a4610f1595efa32f14722fc</td>\n",
       "      <td>9d7a1d34a5052409006425275ba1c2b4</td>\n",
       "      <td>0000-00-00 00:00:00</td>\n",
       "      <td>12.99</td>\n",
       "      <td>12.79</td>\n",
       "    </tr>\n",
       "    <tr>\n",
       "      <th>4</th>\n",
       "      <td>00042b26cf59d7ce69dfabb4e55b4fd9</td>\n",
       "      <td>58dbd0b2d70206bf40e62cd34e84d795</td>\n",
       "      <td>13226</td>\n",
       "      <td>varzea paulista</td>\n",
       "      <td>SP</td>\n",
       "      <td>1.0</td>\n",
       "      <td>ac6c3623068f30de03045865e4e10089</td>\n",
       "      <td>df560393f3a51e74553ab94004ba5c87</td>\n",
       "      <td>0000-00-00 00:00:00</td>\n",
       "      <td>199.90</td>\n",
       "      <td>18.14</td>\n",
       "    </tr>\n",
       "  </tbody>\n",
       "</table>\n",
       "</div>"
      ],
      "text/plain": [
       "                           order_id                       customer_id  \\\n",
       "0  00010242fe8c5a6d1ba2dd792cb16214  3ce436f183e68e07877b285a838db11a   \n",
       "1  00018f77f2f0320c557190d7a144bdd3  f6dd3ec061db4e3987629fe6b26e5cce   \n",
       "2  000229ec398224ef6ca0657da4fc703e  6489ae5e4333f3693df5ad4372dab6d3   \n",
       "3  00024acbcdf0a6daa1e931b038114c75  d4eb9395c8c0431ee92fce09860c5a06   \n",
       "4  00042b26cf59d7ce69dfabb4e55b4fd9  58dbd0b2d70206bf40e62cd34e84d795   \n",
       "\n",
       "   customer_zip_code_prefix          customer_city customer_state  \\\n",
       "0                     28013  campos dos goytacazes             RJ   \n",
       "1                     15775        santa fe do sul             SP   \n",
       "2                     35661          para de minas             MG   \n",
       "3                     12952                atibaia             SP   \n",
       "4                     13226        varzea paulista             SP   \n",
       "\n",
       "   order_item_id                        product_id  \\\n",
       "0            1.0  4244733e06e7ecb4970a6e2683c13e61   \n",
       "1            1.0  e5f2d52b802189ee658865ca93d83a8f   \n",
       "2            1.0  c777355d18b72b67abbeef9df44fd0fd   \n",
       "3            1.0  7634da152a4610f1595efa32f14722fc   \n",
       "4            1.0  ac6c3623068f30de03045865e4e10089   \n",
       "\n",
       "                          seller_id  shipping_limit_date   price  \\\n",
       "0  48436dade18ac8b2bce089ec2a041202  0000-00-00 00:00:00   58.90   \n",
       "1  dd7ddc04e1b6c2c614352b383efe2d36  0000-00-00 00:00:00  239.90   \n",
       "2  5b51032eddd242adc84c38acab88f23d  0000-00-00 00:00:00  199.00   \n",
       "3  9d7a1d34a5052409006425275ba1c2b4  0000-00-00 00:00:00   12.99   \n",
       "4  df560393f3a51e74553ab94004ba5c87  0000-00-00 00:00:00  199.90   \n",
       "\n",
       "   freight_value  \n",
       "0          13.29  \n",
       "1          19.93  \n",
       "2          17.87  \n",
       "3          12.79  \n",
       "4          18.14  "
      ]
     },
     "execution_count": 31,
     "metadata": {},
     "output_type": "execute_result"
    }
   ],
   "source": [
    "df_merge_oc_oi.head()"
   ]
  },
  {
   "cell_type": "code",
   "execution_count": 32,
   "id": "6c9328f2",
   "metadata": {},
   "outputs": [],
   "source": [
    "df_merge_oc_oi=df_merge_oc_oi[['order_id','customer_id','customer_zip_code_prefix','customer_city','customer_state','product_id','seller_id','price','freight_value']]"
   ]
  },
  {
   "cell_type": "code",
   "execution_count": 33,
   "id": "5a305bc3",
   "metadata": {},
   "outputs": [
    {
     "name": "stdout",
     "output_type": "stream",
     "text": [
      "<class 'pandas.core.frame.DataFrame'>\n",
      "Int64Index: 113388 entries, 0 to 113387\n",
      "Data columns (total 9 columns):\n",
      " #   Column                    Non-Null Count   Dtype  \n",
      "---  ------                    --------------   -----  \n",
      " 0   order_id                  113388 non-null  object \n",
      " 1   customer_id               113388 non-null  object \n",
      " 2   customer_zip_code_prefix  113388 non-null  int64  \n",
      " 3   customer_city             113388 non-null  object \n",
      " 4   customer_state            113388 non-null  object \n",
      " 5   product_id                112397 non-null  object \n",
      " 6   seller_id                 112397 non-null  object \n",
      " 7   price                     112397 non-null  float64\n",
      " 8   freight_value             112397 non-null  float64\n",
      "dtypes: float64(2), int64(1), object(6)\n",
      "memory usage: 8.7+ MB\n"
     ]
    }
   ],
   "source": [
    "df_merge_oc_oi.info()"
   ]
  },
  {
   "cell_type": "code",
   "execution_count": null,
   "id": "d16cc9dc",
   "metadata": {},
   "outputs": [],
   "source": []
  },
  {
   "cell_type": "code",
   "execution_count": 34,
   "id": "f627aecc",
   "metadata": {},
   "outputs": [],
   "source": [
    "# df_merge_oc_oi merge on products"
   ]
  },
  {
   "cell_type": "code",
   "execution_count": 35,
   "id": "cc58bf27",
   "metadata": {},
   "outputs": [
    {
     "name": "stdout",
     "output_type": "stream",
     "text": [
      "<class 'pandas.core.frame.DataFrame'>\n",
      "RangeIndex: 32951 entries, 0 to 32950\n",
      "Data columns (total 9 columns):\n",
      " #   Column                      Non-Null Count  Dtype  \n",
      "---  ------                      --------------  -----  \n",
      " 0   product_id                  32951 non-null  object \n",
      " 1   product_category_name       32951 non-null  object \n",
      " 2   product_name_lenght         32951 non-null  int64  \n",
      " 3   product_description_lenght  32951 non-null  int64  \n",
      " 4   product_photos_qty          32951 non-null  int64  \n",
      " 5   product_weight_g            32951 non-null  float64\n",
      " 6   product_length_cm           32951 non-null  float64\n",
      " 7   product_height_cm           32951 non-null  float64\n",
      " 8   product_width_cm            32951 non-null  float64\n",
      "dtypes: float64(4), int64(3), object(2)\n",
      "memory usage: 2.3+ MB\n"
     ]
    }
   ],
   "source": [
    "df_products.info()"
   ]
  },
  {
   "cell_type": "code",
   "execution_count": 36,
   "id": "4ea2d8d6",
   "metadata": {},
   "outputs": [
    {
     "data": {
      "text/plain": [
       "(32951, 9)"
      ]
     },
     "execution_count": 36,
     "metadata": {},
     "output_type": "execute_result"
    }
   ],
   "source": [
    "df_products.shape"
   ]
  },
  {
   "cell_type": "code",
   "execution_count": 37,
   "id": "fc1a6ae6",
   "metadata": {},
   "outputs": [
    {
     "data": {
      "text/plain": [
       "product_id                    32951\n",
       "product_category_name            74\n",
       "product_name_lenght              67\n",
       "product_description_lenght     2961\n",
       "product_photos_qty               20\n",
       "product_weight_g               2204\n",
       "product_length_cm               100\n",
       "product_height_cm               103\n",
       "product_width_cm                 96\n",
       "dtype: int64"
      ]
     },
     "execution_count": 37,
     "metadata": {},
     "output_type": "execute_result"
    }
   ],
   "source": [
    "df_products.nunique()"
   ]
  },
  {
   "cell_type": "code",
   "execution_count": null,
   "id": "a956505b",
   "metadata": {},
   "outputs": [],
   "source": []
  },
  {
   "cell_type": "code",
   "execution_count": 38,
   "id": "9c5a0a5b",
   "metadata": {},
   "outputs": [],
   "source": [
    "df_merge_oc_oi_pi = pd.merge(df_merge_oc_oi, df_products, on='product_id',  how='left')"
   ]
  },
  {
   "cell_type": "code",
   "execution_count": 39,
   "id": "a22b78bd",
   "metadata": {},
   "outputs": [
    {
     "data": {
      "text/plain": [
       "(113388, 17)"
      ]
     },
     "execution_count": 39,
     "metadata": {},
     "output_type": "execute_result"
    }
   ],
   "source": [
    "df_merge_oc_oi_pi.shape"
   ]
  },
  {
   "cell_type": "code",
   "execution_count": 40,
   "id": "d253bb03",
   "metadata": {},
   "outputs": [
    {
     "data": {
      "text/plain": [
       "order_id                      99441\n",
       "customer_id                   99441\n",
       "customer_zip_code_prefix      14994\n",
       "customer_city                  4119\n",
       "customer_state                   27\n",
       "product_id                    32889\n",
       "seller_id                      3088\n",
       "price                          5959\n",
       "freight_value                  6995\n",
       "product_category_name            74\n",
       "product_name_lenght              67\n",
       "product_description_lenght     2961\n",
       "product_photos_qty               20\n",
       "product_weight_g               2204\n",
       "product_length_cm               100\n",
       "product_height_cm               103\n",
       "product_width_cm                 96\n",
       "dtype: int64"
      ]
     },
     "execution_count": 40,
     "metadata": {},
     "output_type": "execute_result"
    }
   ],
   "source": [
    "df_merge_oc_oi_pi.nunique()"
   ]
  },
  {
   "cell_type": "code",
   "execution_count": 41,
   "id": "3a2b237c",
   "metadata": {},
   "outputs": [],
   "source": [
    "df_merge_oc_oi_pi=df_merge_oc_oi_pi[['order_id','customer_id','customer_zip_code_prefix','customer_city','customer_state','product_id','seller_id','price','freight_value','product_category_name']]"
   ]
  },
  {
   "cell_type": "code",
   "execution_count": 42,
   "id": "b1c5d393",
   "metadata": {},
   "outputs": [
    {
     "data": {
      "text/html": [
       "<div>\n",
       "<style scoped>\n",
       "    .dataframe tbody tr th:only-of-type {\n",
       "        vertical-align: middle;\n",
       "    }\n",
       "\n",
       "    .dataframe tbody tr th {\n",
       "        vertical-align: top;\n",
       "    }\n",
       "\n",
       "    .dataframe thead th {\n",
       "        text-align: right;\n",
       "    }\n",
       "</style>\n",
       "<table border=\"1\" class=\"dataframe\">\n",
       "  <thead>\n",
       "    <tr style=\"text-align: right;\">\n",
       "      <th></th>\n",
       "      <th>order_id</th>\n",
       "      <th>customer_id</th>\n",
       "      <th>customer_zip_code_prefix</th>\n",
       "      <th>customer_city</th>\n",
       "      <th>customer_state</th>\n",
       "      <th>product_id</th>\n",
       "      <th>seller_id</th>\n",
       "      <th>price</th>\n",
       "      <th>freight_value</th>\n",
       "      <th>product_category_name</th>\n",
       "    </tr>\n",
       "  </thead>\n",
       "  <tbody>\n",
       "    <tr>\n",
       "      <th>0</th>\n",
       "      <td>00010242fe8c5a6d1ba2dd792cb16214</td>\n",
       "      <td>3ce436f183e68e07877b285a838db11a</td>\n",
       "      <td>28013</td>\n",
       "      <td>campos dos goytacazes</td>\n",
       "      <td>RJ</td>\n",
       "      <td>4244733e06e7ecb4970a6e2683c13e61</td>\n",
       "      <td>48436dade18ac8b2bce089ec2a041202</td>\n",
       "      <td>58.90</td>\n",
       "      <td>13.29</td>\n",
       "      <td>cool_stuff</td>\n",
       "    </tr>\n",
       "    <tr>\n",
       "      <th>1</th>\n",
       "      <td>00018f77f2f0320c557190d7a144bdd3</td>\n",
       "      <td>f6dd3ec061db4e3987629fe6b26e5cce</td>\n",
       "      <td>15775</td>\n",
       "      <td>santa fe do sul</td>\n",
       "      <td>SP</td>\n",
       "      <td>e5f2d52b802189ee658865ca93d83a8f</td>\n",
       "      <td>dd7ddc04e1b6c2c614352b383efe2d36</td>\n",
       "      <td>239.90</td>\n",
       "      <td>19.93</td>\n",
       "      <td>pet_shop</td>\n",
       "    </tr>\n",
       "    <tr>\n",
       "      <th>2</th>\n",
       "      <td>000229ec398224ef6ca0657da4fc703e</td>\n",
       "      <td>6489ae5e4333f3693df5ad4372dab6d3</td>\n",
       "      <td>35661</td>\n",
       "      <td>para de minas</td>\n",
       "      <td>MG</td>\n",
       "      <td>c777355d18b72b67abbeef9df44fd0fd</td>\n",
       "      <td>5b51032eddd242adc84c38acab88f23d</td>\n",
       "      <td>199.00</td>\n",
       "      <td>17.87</td>\n",
       "      <td>moveis_decoracao</td>\n",
       "    </tr>\n",
       "    <tr>\n",
       "      <th>3</th>\n",
       "      <td>00024acbcdf0a6daa1e931b038114c75</td>\n",
       "      <td>d4eb9395c8c0431ee92fce09860c5a06</td>\n",
       "      <td>12952</td>\n",
       "      <td>atibaia</td>\n",
       "      <td>SP</td>\n",
       "      <td>7634da152a4610f1595efa32f14722fc</td>\n",
       "      <td>9d7a1d34a5052409006425275ba1c2b4</td>\n",
       "      <td>12.99</td>\n",
       "      <td>12.79</td>\n",
       "      <td>perfumaria</td>\n",
       "    </tr>\n",
       "    <tr>\n",
       "      <th>4</th>\n",
       "      <td>00042b26cf59d7ce69dfabb4e55b4fd9</td>\n",
       "      <td>58dbd0b2d70206bf40e62cd34e84d795</td>\n",
       "      <td>13226</td>\n",
       "      <td>varzea paulista</td>\n",
       "      <td>SP</td>\n",
       "      <td>ac6c3623068f30de03045865e4e10089</td>\n",
       "      <td>df560393f3a51e74553ab94004ba5c87</td>\n",
       "      <td>199.90</td>\n",
       "      <td>18.14</td>\n",
       "      <td>ferramentas_jardim</td>\n",
       "    </tr>\n",
       "  </tbody>\n",
       "</table>\n",
       "</div>"
      ],
      "text/plain": [
       "                           order_id                       customer_id  \\\n",
       "0  00010242fe8c5a6d1ba2dd792cb16214  3ce436f183e68e07877b285a838db11a   \n",
       "1  00018f77f2f0320c557190d7a144bdd3  f6dd3ec061db4e3987629fe6b26e5cce   \n",
       "2  000229ec398224ef6ca0657da4fc703e  6489ae5e4333f3693df5ad4372dab6d3   \n",
       "3  00024acbcdf0a6daa1e931b038114c75  d4eb9395c8c0431ee92fce09860c5a06   \n",
       "4  00042b26cf59d7ce69dfabb4e55b4fd9  58dbd0b2d70206bf40e62cd34e84d795   \n",
       "\n",
       "   customer_zip_code_prefix          customer_city customer_state  \\\n",
       "0                     28013  campos dos goytacazes             RJ   \n",
       "1                     15775        santa fe do sul             SP   \n",
       "2                     35661          para de minas             MG   \n",
       "3                     12952                atibaia             SP   \n",
       "4                     13226        varzea paulista             SP   \n",
       "\n",
       "                         product_id                         seller_id   price  \\\n",
       "0  4244733e06e7ecb4970a6e2683c13e61  48436dade18ac8b2bce089ec2a041202   58.90   \n",
       "1  e5f2d52b802189ee658865ca93d83a8f  dd7ddc04e1b6c2c614352b383efe2d36  239.90   \n",
       "2  c777355d18b72b67abbeef9df44fd0fd  5b51032eddd242adc84c38acab88f23d  199.00   \n",
       "3  7634da152a4610f1595efa32f14722fc  9d7a1d34a5052409006425275ba1c2b4   12.99   \n",
       "4  ac6c3623068f30de03045865e4e10089  df560393f3a51e74553ab94004ba5c87  199.90   \n",
       "\n",
       "   freight_value product_category_name  \n",
       "0          13.29            cool_stuff  \n",
       "1          19.93              pet_shop  \n",
       "2          17.87      moveis_decoracao  \n",
       "3          12.79            perfumaria  \n",
       "4          18.14    ferramentas_jardim  "
      ]
     },
     "execution_count": 42,
     "metadata": {},
     "output_type": "execute_result"
    }
   ],
   "source": [
    "df_merge_oc_oi_pi.head()"
   ]
  },
  {
   "cell_type": "code",
   "execution_count": null,
   "id": "be574db1",
   "metadata": {},
   "outputs": [],
   "source": []
  },
  {
   "cell_type": "code",
   "execution_count": 43,
   "id": "aba2fc60",
   "metadata": {},
   "outputs": [],
   "source": [
    "# df_merge_oc_oi_pi merge on order reviews"
   ]
  },
  {
   "cell_type": "code",
   "execution_count": 44,
   "id": "c30ac740",
   "metadata": {},
   "outputs": [
    {
     "data": {
      "text/plain": [
       "(98408, 7)"
      ]
     },
     "execution_count": 44,
     "metadata": {},
     "output_type": "execute_result"
    }
   ],
   "source": [
    "df_order_reviews.shape"
   ]
  },
  {
   "cell_type": "code",
   "execution_count": 45,
   "id": "20f5b6a6",
   "metadata": {},
   "outputs": [
    {
     "name": "stdout",
     "output_type": "stream",
     "text": [
      "<class 'pandas.core.frame.DataFrame'>\n",
      "RangeIndex: 98408 entries, 0 to 98407\n",
      "Data columns (total 7 columns):\n",
      " #   Column                   Non-Null Count  Dtype \n",
      "---  ------                   --------------  ----- \n",
      " 0   review_id                98408 non-null  object\n",
      " 1   order_id                 98408 non-null  object\n",
      " 2   review_score             98408 non-null  int64 \n",
      " 3   review_comment_title     98408 non-null  object\n",
      " 4   review_comment_message   98408 non-null  object\n",
      " 5   review_creation_date     98408 non-null  object\n",
      " 6   review_answer_timestamp  98408 non-null  object\n",
      "dtypes: int64(1), object(6)\n",
      "memory usage: 5.3+ MB\n"
     ]
    }
   ],
   "source": [
    "df_order_reviews.info()"
   ]
  },
  {
   "cell_type": "code",
   "execution_count": 46,
   "id": "272eeb28",
   "metadata": {},
   "outputs": [
    {
     "data": {
      "text/plain": [
       "review_id                  98408\n",
       "order_id                   98165\n",
       "review_score                   5\n",
       "review_comment_title        4516\n",
       "review_comment_message     36154\n",
       "review_creation_date           1\n",
       "review_answer_timestamp        1\n",
       "dtype: int64"
      ]
     },
     "execution_count": 46,
     "metadata": {},
     "output_type": "execute_result"
    }
   ],
   "source": [
    "df_order_reviews.nunique()"
   ]
  },
  {
   "cell_type": "code",
   "execution_count": 47,
   "id": "760b2f2d",
   "metadata": {},
   "outputs": [],
   "source": [
    "df_merge_oc_oi_pi_or = pd.merge(df_merge_oc_oi_pi, df_order_reviews, on='order_id',  how='left')"
   ]
  },
  {
   "cell_type": "code",
   "execution_count": 48,
   "id": "509af4ba",
   "metadata": {},
   "outputs": [
    {
     "data": {
      "text/plain": [
       "(113690, 16)"
      ]
     },
     "execution_count": 48,
     "metadata": {},
     "output_type": "execute_result"
    }
   ],
   "source": [
    "df_merge_oc_oi_pi_or.shape"
   ]
  },
  {
   "cell_type": "code",
   "execution_count": 49,
   "id": "3dbcde4c",
   "metadata": {},
   "outputs": [
    {
     "name": "stdout",
     "output_type": "stream",
     "text": [
      "<class 'pandas.core.frame.DataFrame'>\n",
      "Int64Index: 113690 entries, 0 to 113689\n",
      "Data columns (total 16 columns):\n",
      " #   Column                    Non-Null Count   Dtype  \n",
      "---  ------                    --------------   -----  \n",
      " 0   order_id                  113690 non-null  object \n",
      " 1   customer_id               113690 non-null  object \n",
      " 2   customer_zip_code_prefix  113690 non-null  int64  \n",
      " 3   customer_city             113690 non-null  object \n",
      " 4   customer_state            113690 non-null  object \n",
      " 5   product_id                112697 non-null  object \n",
      " 6   seller_id                 112697 non-null  object \n",
      " 7   price                     112697 non-null  float64\n",
      " 8   freight_value             112697 non-null  float64\n",
      " 9   product_category_name     112697 non-null  object \n",
      " 10  review_id                 112150 non-null  object \n",
      " 11  review_score              112150 non-null  float64\n",
      " 12  review_comment_title      112150 non-null  object \n",
      " 13  review_comment_message    112150 non-null  object \n",
      " 14  review_creation_date      112150 non-null  object \n",
      " 15  review_answer_timestamp   112150 non-null  object \n",
      "dtypes: float64(3), int64(1), object(12)\n",
      "memory usage: 14.7+ MB\n"
     ]
    }
   ],
   "source": [
    "df_merge_oc_oi_pi_or.info()"
   ]
  },
  {
   "cell_type": "code",
   "execution_count": 50,
   "id": "69373520",
   "metadata": {},
   "outputs": [
    {
     "data": {
      "text/plain": [
       "order_id                    99441\n",
       "customer_id                 99441\n",
       "customer_zip_code_prefix    14994\n",
       "customer_city                4119\n",
       "customer_state                 27\n",
       "product_id                  32889\n",
       "seller_id                    3088\n",
       "price                        5959\n",
       "freight_value                6995\n",
       "product_category_name          74\n",
       "review_id                   98408\n",
       "review_score                    5\n",
       "review_comment_title         4516\n",
       "review_comment_message      36154\n",
       "review_creation_date            1\n",
       "review_answer_timestamp         1\n",
       "dtype: int64"
      ]
     },
     "execution_count": 50,
     "metadata": {},
     "output_type": "execute_result"
    }
   ],
   "source": [
    "df_merge_oc_oi_pi_or.nunique()"
   ]
  },
  {
   "cell_type": "code",
   "execution_count": 51,
   "id": "864a97b8",
   "metadata": {},
   "outputs": [],
   "source": [
    "df_merge_oc_oi_pi_or = df_merge_oc_oi_pi_or[['order_id','customer_id','customer_zip_code_prefix','customer_city','customer_state','product_id','seller_id','price','freight_value','product_category_name','review_id','review_score','review_comment_title','review_comment_message']]"
   ]
  },
  {
   "cell_type": "code",
   "execution_count": 52,
   "id": "48f08786",
   "metadata": {},
   "outputs": [
    {
     "data": {
      "text/plain": [
       "(113690, 14)"
      ]
     },
     "execution_count": 52,
     "metadata": {},
     "output_type": "execute_result"
    }
   ],
   "source": [
    "df_merge_oc_oi_pi_or.shape"
   ]
  },
  {
   "cell_type": "code",
   "execution_count": 54,
   "id": "ddf18247",
   "metadata": {},
   "outputs": [
    {
     "data": {
      "text/plain": [
       "order_id                    99441\n",
       "customer_id                 99441\n",
       "customer_zip_code_prefix    14994\n",
       "customer_city                4119\n",
       "customer_state                 27\n",
       "product_id                  32889\n",
       "seller_id                    3088\n",
       "price                        5959\n",
       "freight_value                6995\n",
       "product_category_name          74\n",
       "review_id                   98408\n",
       "review_score                    5\n",
       "review_comment_title         4516\n",
       "review_comment_message      36154\n",
       "dtype: int64"
      ]
     },
     "execution_count": 54,
     "metadata": {},
     "output_type": "execute_result"
    }
   ],
   "source": [
    "df_merge_oc_oi_pi_or.nunique()"
   ]
  },
  {
   "cell_type": "code",
   "execution_count": null,
   "id": "ed571e2a",
   "metadata": {},
   "outputs": [],
   "source": []
  },
  {
   "cell_type": "code",
   "execution_count": 55,
   "id": "2863d148",
   "metadata": {},
   "outputs": [],
   "source": [
    "df_final = df_merge_oc_oi_pi_or.copy()"
   ]
  },
  {
   "cell_type": "code",
   "execution_count": 56,
   "id": "0d6986ca",
   "metadata": {},
   "outputs": [
    {
     "data": {
      "text/plain": [
       "(113690, 14)"
      ]
     },
     "execution_count": 56,
     "metadata": {},
     "output_type": "execute_result"
    }
   ],
   "source": [
    "df_final.shape"
   ]
  },
  {
   "cell_type": "code",
   "execution_count": 57,
   "id": "efbac70b",
   "metadata": {},
   "outputs": [],
   "source": [
    "df_final.to_csv(\"Olist_merge.csv\")"
   ]
  },
  {
   "cell_type": "code",
   "execution_count": null,
   "id": "2ab8e915",
   "metadata": {},
   "outputs": [],
   "source": []
  },
  {
   "cell_type": "code",
   "execution_count": 58,
   "id": "eb0dd126",
   "metadata": {},
   "outputs": [],
   "source": [
    "#pushback "
   ]
  },
  {
   "cell_type": "code",
   "execution_count": 59,
   "id": "b410f898",
   "metadata": {},
   "outputs": [
    {
     "name": "stderr",
     "output_type": "stream",
     "text": [
      "C:\\Users\\acer\\AppData\\Local\\Temp\\ipykernel_18464\\318756490.py:1: UserWarning: The provided table name 'Olist_merge' is not found exactly as such in the database after writing the table, possibly due to case sensitivity issues. Consider using lower case table names.\n",
      "  df_final.to_sql('Olist_merge', engine, index=False)\n"
     ]
    },
    {
     "data": {
      "text/plain": [
       "113690"
      ]
     },
     "execution_count": 59,
     "metadata": {},
     "output_type": "execute_result"
    }
   ],
   "source": [
    "df_final.to_sql('Olist_merge', engine, index=False)"
   ]
  },
  {
   "cell_type": "code",
   "execution_count": null,
   "id": "5dd28e34",
   "metadata": {},
   "outputs": [],
   "source": []
  }
 ],
 "metadata": {
  "kernelspec": {
   "display_name": "Python 3 (ipykernel)",
   "language": "python",
   "name": "python3"
  },
  "language_info": {
   "codemirror_mode": {
    "name": "ipython",
    "version": 3
   },
   "file_extension": ".py",
   "mimetype": "text/x-python",
   "name": "python",
   "nbconvert_exporter": "python",
   "pygments_lexer": "ipython3",
   "version": "3.9.16"
  }
 },
 "nbformat": 4,
 "nbformat_minor": 5
}
